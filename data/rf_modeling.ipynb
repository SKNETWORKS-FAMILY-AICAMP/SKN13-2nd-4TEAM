{
 "cells": [
  {
   "cell_type": "code",
   "execution_count": null,
   "id": "a4648c5b",
   "metadata": {},
   "outputs": [],
   "source": [
    "import pandas as pd\n",
    "from sklearn.ensemble import RandomForestClassifier\n",
    "from sklearn.model_selection import GridSearchCV\n",
    "from sklearn.preprocessing import LabelEncoder\n",
    "from sklearn.metrics import accuracy_score, classification_report\n",
    "import matplotlib.pyplot as plt\n",
    "import seaborn as sns\n",
    "\n",
    "# 데이터 로딩\n",
    "X_train = pd.read_csv(\"datasets/X_train.csv\", encoding='utf-8')\n",
    "y_train = pd.read_csv(\"datasets/y_train.csv\", encoding='utf-8')\n",
    "X_test = pd.read_csv(\"datasets/X_test.csv\", encoding='utf-8')\n",
    "y_test = pd.read_csv(\"datasets/y_test.csv\", encoding='utf-8')\n",
    "\n",
    "# 문자열 인코딩\n",
    "for col in X_train.select_dtypes(include='object').columns:\n",
    "    le = LabelEncoder()\n",
    "    X_train[col] = le.fit_transform(X_train[col])\n",
    "    X_test[col] = le.transform(X_test[col].fillna(''))\n",
    "\n",
    "# GridSearchCV 파라미터 정의\n",
    "param_grid = {\n",
    "    'n_estimators': [100, 200],\n",
    "    'max_depth': [None, 10, 20],\n",
    "    'min_samples_split': [2, 5],\n",
    "    'class_weight': ['balanced']\n",
    "}\n",
    "\n",
    "# 모델 및 GridSearchCV\n",
    "rf = RandomForestClassifier(random_state=42)\n",
    "grid_search = GridSearchCV(rf, param_grid, cv=3, scoring='f1', n_jobs=-1)\n",
    "grid_search.fit(X_train, y_train)\n",
    "\n",
    "# 최적 모델 추출\n",
    "best_model = grid_search.best_estimator_\n",
    "y_pred = best_model.predict(X_test)\n",
    "\n",
    "# 결과 출력\n",
    "print(\"✅ Best Params:\", grid_search.best_params_)\n",
    "print(\"✅ Accuracy:\", accuracy_score(y_test, y_pred))\n",
    "print(classification_report(y_test, y_pred))\n",
    "\n"
   ]
  },
  {
   "cell_type": "code",
   "execution_count": null,
   "id": "ef2340e1",
   "metadata": {},
   "outputs": [],
   "source": [
    "import joblib\n",
    "\n",
    "# 저장할 데이터 구조\n",
    "save_dict = {\n",
    "    'model': best_model,\n",
    "    'encoders': label_encoders,\n",
    "    'features': X_train.columns,\n",
    "    'metrics': {\n",
    "        'model_name': 'RandomForest',\n",
    "        'accuracy': 0.723,\n",
    "        'f1_score': 0.560,\n",
    "        'recall': 0.840\n",
    "    }\n",
    "}\n",
    "\n",
    "# 파일로 저장\n",
    "joblib.dump(save_dict, 'rf.model.joblib')\n",
    "print(\"✅ rf.model.joblib 저장 완료\")\n"
   ]
  }
 ],
 "metadata": {
  "language_info": {
   "name": "python"
  }
 },
 "nbformat": 4,
 "nbformat_minor": 5
}
