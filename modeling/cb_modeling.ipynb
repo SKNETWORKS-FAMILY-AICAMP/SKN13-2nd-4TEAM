{
 "cells": [
  {
   "cell_type": "code",
   "execution_count": null,
   "id": "8e3254dd",
   "metadata": {},
   "outputs": [],
   "source": [
    "from catboost import CatBoostClassifier\n",
    "from sklearn.model_selection import GridSearchCV\n",
    "from sklearn.metrics import recall_score, classification_report\n",
    "import pandas as pd\n",
    "\n",
    "# 기본 모델 정의\n",
    "cat_model = CatBoostClassifier(\n",
    "    random_state=42,\n",
    "    verbose=0\n",
    ")\n",
    "\n",
    "# GridSearchCV 파라미터 설정 (꼭 너무 넓게 하지 말 것!)\n",
    "param_grid = {\n",
    "    'depth': [4, 6, 8],\n",
    "    'learning_rate': [0.01, 0.05, 0.1],\n",
    "    'iterations': [100, 300],\n",
    "    'class_weights': [{0:1, 1:3}, {0:1, 1:5}, {0:1, 1:10}]\n",
    "}\n",
    "\n",
    "# GridSearchCV recall 기준\n",
    "grid_search = GridSearchCV(\n",
    "    estimator=cat_model,\n",
    "    param_grid=param_grid,\n",
    "    scoring='recall',\n",
    "    cv=3,\n",
    "    n_jobs=-1\n",
    ")\n",
    "\n",
    "# 학습 수행\n",
    "grid_search.fit(X_train, y_train)\n",
    "\n",
    "# 최적 모델\n",
    "best_cat = grid_search.best_estimator_\n",
    "y_pred = best_cat.predict(X_test)\n",
    "\n",
    "# 결과 출력\n",
    "print(\"✅ Best Params:\", grid_search.best_params_)\n",
    "print(\"🎯 Recall Score:\", recall_score(y_test, y_pred))\n",
    "print(\"\\n📋 Classification Report:\\n\", classification_report(y_test, y_pred, target_names=[\"비이탈\", \"이탈\"]))\n"
   ]
  },
  {
   "cell_type": "code",
   "execution_count": null,
   "id": "d074efae",
   "metadata": {},
   "outputs": [],
   "source": [
    "from sklearn.metrics import accuracy_score, classification_report, confusion_matrix\n",
    "\n",
    "# 혼동 행렬 시각화\n",
    "cm = confusion_matrix(y_test, y_pred)\n",
    "sns.heatmap(cm, annot=True, fmt='d', cmap='Blues')\n",
    "plt.xlabel(\"예측값\")\n",
    "plt.ylabel(\"실제값\")\n",
    "plt.title(\"혼동 행렬 (Confusion Matrix)\")\n",
    "plt.tight_layout()\n",
    "plt.show"
   ]
  },
  {
   "cell_type": "code",
   "execution_count": null,
   "id": "29659d63",
   "metadata": {},
   "outputs": [],
   "source": [
    "import joblib\n",
    "\n",
    "# 저장할 데이터 구조 (CatBoost용으로 수정)\n",
    "save_dict = {\n",
    "    'model': best_cat,  # 👉 GridSearch로 얻은 최적 CatBoost 모델\n",
    "    'encoders': label_encoders,  # 라벨 인코더 딕셔너리\n",
    "    'features': X_train.columns,  # 사용된 피처 목록\n",
    "    'metrics': {\n",
    "        'model_name': 'CatBoost',\n",
    "        'accuracy': 0.623,         # 여기에 실제 평가 결과 넣기\n",
    "        'f1_score': 0.514,         # 실제 f1-score\n",
    "        'recall': 0.932            # 높은 recall 반영\n",
    "    }\n",
    "}\n",
    "\n",
    "# 저장\n",
    "joblib.dump(save_dict, 'cb_model.joblib')\n",
    "print(\"✅ cb_model.joblib 저장 완료\")\n"
   ]
  }
 ],
 "metadata": {
  "language_info": {
   "name": "python"
  }
 },
 "nbformat": 4,
 "nbformat_minor": 5
}
